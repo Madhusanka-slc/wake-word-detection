{
 "cells": [
  {
   "cell_type": "code",
   "execution_count": 22,
   "id": "9bd51c9f",
   "metadata": {},
   "outputs": [
    {
     "name": "stdout",
     "output_type": "stream",
     "text": [
      "✓ All libraries imported successfully!\n",
      "\n"
     ]
    }
   ],
   "source": [
    "# Wake Word Detection - Model Training\n",
    "# This notebook builds and trains a deep learning model for wake word detection\n",
    "# Architecture: Conv1D → GRU → GRU → TimeDistributed Dense\n",
    "\n",
    "# ============================================================================\n",
    "# SECTION 1: Setup and Imports\n",
    "# ============================================================================\n",
    "\n",
    "import os\n",
    "import logging\n",
    "import json\n",
    "import random\n",
    "from pathlib import Path\n",
    "from typing import List, Tuple, Dict\n",
    "from dataclasses import dataclass\n",
    "from datetime import datetime\n",
    "\n",
    "import numpy as np\n",
    "import matplotlib.pyplot as plt\n",
    "from pydub import AudioSegment\n",
    "from scipy.io import wavfile\n",
    "from dotenv import load_dotenv\n",
    "\n",
    "from td_utils import *\n",
    "\n",
    "# TensorFlow/Keras imports\n",
    "from tensorflow.keras.callbacks import ModelCheckpoint, EarlyStopping, ReduceLROnPlateau\n",
    "from tensorflow.keras.models import Model, load_model, Sequential\n",
    "from tensorflow.keras.layers import (\n",
    "    Dense, Activation, Dropout, Input, Masking, \n",
    "    TimeDistributed, LSTM, Conv1D, GRU, \n",
    "    Bidirectional, BatchNormalization, Reshape\n",
    ")\n",
    "from tensorflow.keras.optimizers import Adam\n",
    "\n",
    "# Configure matplotlib\n",
    "%matplotlib inline\n",
    "plt.style.use('default')\n",
    "\n",
    "# Set random seeds for reproducibility\n",
    "np.random.seed(42)\n",
    "random.seed(42)\n",
    "\n",
    "print(\"✓ All libraries imported successfully!\\n\")"
   ]
  },
  {
   "cell_type": "code",
   "execution_count": 23,
   "id": "b40bf87a",
   "metadata": {},
   "outputs": [
    {
     "name": "stdout",
     "output_type": "stream",
     "text": [
      "============================================================\n",
      "MODEL CONFIGURATION\n",
      "============================================================\n",
      "Input shape: (5511, 101)\n",
      "Output shape: (1375, 1)\n",
      "Batch size: 16\n",
      "Epochs: 20\n",
      "Learning rate: 1e-06\n",
      "============================================================\n",
      "\n"
     ]
    }
   ],
   "source": [
    "# ============================================================================\n",
    "# SECTION 2: Configuration\n",
    "# ============================================================================\n",
    "\n",
    "# Model hyperparameters\n",
    "Tx = 5511  # Number of time steps in input spectrogram\n",
    "Ty = 1375  # Number of time steps in output\n",
    "N_FREQ = 101  # Number of frequency bins\n",
    "\n",
    "# Training configuration\n",
    "BATCH_SIZE = 16\n",
    "EPOCHS = 20  # Increase for actual training (e.g., 50-100)\n",
    "LEARNING_RATE = 1e-6\n",
    "BETA_1 = 0.9\n",
    "BETA_2 = 0.999\n",
    "\n",
    "# File paths\n",
    "DATA_PATH = \"../data/processed\"\n",
    "MODEL_PATH = \"../models\"\n",
    "MODEL_NAME = \"wakeword_model.h5\"\n",
    "\n",
    "print(\"=\"*60)\n",
    "print(\"MODEL CONFIGURATION\")\n",
    "print(\"=\"*60)\n",
    "print(f\"Input shape: ({Tx}, {N_FREQ})\")\n",
    "print(f\"Output shape: ({Ty}, 1)\")\n",
    "print(f\"Batch size: {BATCH_SIZE}\")\n",
    "print(f\"Epochs: {EPOCHS}\")\n",
    "print(f\"Learning rate: {LEARNING_RATE}\")\n",
    "print(\"=\"*60 + \"\\n\")"
   ]
  },
  {
   "cell_type": "code",
   "execution_count": 24,
   "id": "41e68334",
   "metadata": {},
   "outputs": [
    {
     "name": "stdout",
     "output_type": "stream",
     "text": [
      "Loading preprocessed training data...\n",
      "✓ Training data loaded successfully!\n",
      "  X_train shape: (32, 5511, 101)\n",
      "  Y_train shape: (32, 1375, 1)\n",
      "  Training samples: 32\n",
      "  Memory usage: 135.89 MB\n",
      "\n"
     ]
    }
   ],
   "source": [
    "# ============================================================================\n",
    "# SECTION 3: Load Training Data\n",
    "# ============================================================================\n",
    "\n",
    "print(\"Loading preprocessed training data...\")\n",
    "\n",
    "# Load training data\n",
    "X_train = np.load(f\"{DATA_PATH}/train/X.npy\")\n",
    "Y_train = np.load(f\"{DATA_PATH}/train/Y.npy\")\n",
    "\n",
    "print(f\"✓ Training data loaded successfully!\")\n",
    "print(f\"  X_train shape: {X_train.shape}\")\n",
    "print(f\"  Y_train shape: {Y_train.shape}\")\n",
    "print(f\"  Training samples: {X_train.shape[0]}\")\n",
    "print(f\"  Memory usage: {X_train.nbytes / (1024**2):.2f} MB\\n\")"
   ]
  },
  {
   "cell_type": "code",
   "execution_count": 25,
   "id": "14c41254",
   "metadata": {},
   "outputs": [
    {
     "name": "stdout",
     "output_type": "stream",
     "text": [
      "============================================================\n",
      "BUILDING MODEL\n",
      "============================================================\n"
     ]
    },
    {
     "data": {
      "text/html": [
       "<pre style=\"white-space:pre;overflow-x:auto;line-height:normal;font-family:Menlo,'DejaVu Sans Mono',consolas,'Courier New',monospace\"><span style=\"font-weight: bold\">Model: \"WakeWordDetector\"</span>\n",
       "</pre>\n"
      ],
      "text/plain": [
       "\u001b[1mModel: \"WakeWordDetector\"\u001b[0m\n"
      ]
     },
     "metadata": {},
     "output_type": "display_data"
    },
    {
     "data": {
      "text/html": [
       "<pre style=\"white-space:pre;overflow-x:auto;line-height:normal;font-family:Menlo,'DejaVu Sans Mono',consolas,'Courier New',monospace\">┏━━━━━━━━━━━━━━━━━━━━━━━━━━━━━━━━━┳━━━━━━━━━━━━━━━━━━━━━━━━┳━━━━━━━━━━━━━━━┓\n",
       "┃<span style=\"font-weight: bold\"> Layer (type)                    </span>┃<span style=\"font-weight: bold\"> Output Shape           </span>┃<span style=\"font-weight: bold\">       Param # </span>┃\n",
       "┡━━━━━━━━━━━━━━━━━━━━━━━━━━━━━━━━━╇━━━━━━━━━━━━━━━━━━━━━━━━╇━━━━━━━━━━━━━━━┩\n",
       "│ input (<span style=\"color: #0087ff; text-decoration-color: #0087ff\">InputLayer</span>)              │ (<span style=\"color: #00d7ff; text-decoration-color: #00d7ff\">None</span>, <span style=\"color: #00af00; text-decoration-color: #00af00\">5511</span>, <span style=\"color: #00af00; text-decoration-color: #00af00\">101</span>)      │             <span style=\"color: #00af00; text-decoration-color: #00af00\">0</span> │\n",
       "├─────────────────────────────────┼────────────────────────┼───────────────┤\n",
       "│ conv1d (<span style=\"color: #0087ff; text-decoration-color: #0087ff\">Conv1D</span>)                 │ (<span style=\"color: #00d7ff; text-decoration-color: #00d7ff\">None</span>, <span style=\"color: #00af00; text-decoration-color: #00af00\">1375</span>, <span style=\"color: #00af00; text-decoration-color: #00af00\">196</span>)      │       <span style=\"color: #00af00; text-decoration-color: #00af00\">297,136</span> │\n",
       "├─────────────────────────────────┼────────────────────────┼───────────────┤\n",
       "│ bn_conv (<span style=\"color: #0087ff; text-decoration-color: #0087ff\">BatchNormalization</span>)    │ (<span style=\"color: #00d7ff; text-decoration-color: #00d7ff\">None</span>, <span style=\"color: #00af00; text-decoration-color: #00af00\">1375</span>, <span style=\"color: #00af00; text-decoration-color: #00af00\">196</span>)      │           <span style=\"color: #00af00; text-decoration-color: #00af00\">784</span> │\n",
       "├─────────────────────────────────┼────────────────────────┼───────────────┤\n",
       "│ relu_conv (<span style=\"color: #0087ff; text-decoration-color: #0087ff\">Activation</span>)          │ (<span style=\"color: #00d7ff; text-decoration-color: #00d7ff\">None</span>, <span style=\"color: #00af00; text-decoration-color: #00af00\">1375</span>, <span style=\"color: #00af00; text-decoration-color: #00af00\">196</span>)      │             <span style=\"color: #00af00; text-decoration-color: #00af00\">0</span> │\n",
       "├─────────────────────────────────┼────────────────────────┼───────────────┤\n",
       "│ dropout_conv (<span style=\"color: #0087ff; text-decoration-color: #0087ff\">Dropout</span>)          │ (<span style=\"color: #00d7ff; text-decoration-color: #00d7ff\">None</span>, <span style=\"color: #00af00; text-decoration-color: #00af00\">1375</span>, <span style=\"color: #00af00; text-decoration-color: #00af00\">196</span>)      │             <span style=\"color: #00af00; text-decoration-color: #00af00\">0</span> │\n",
       "├─────────────────────────────────┼────────────────────────┼───────────────┤\n",
       "│ gru_1 (<span style=\"color: #0087ff; text-decoration-color: #0087ff\">GRU</span>)                     │ (<span style=\"color: #00d7ff; text-decoration-color: #00d7ff\">None</span>, <span style=\"color: #00af00; text-decoration-color: #00af00\">1375</span>, <span style=\"color: #00af00; text-decoration-color: #00af00\">128</span>)      │       <span style=\"color: #00af00; text-decoration-color: #00af00\">125,184</span> │\n",
       "├─────────────────────────────────┼────────────────────────┼───────────────┤\n",
       "│ dropout_gru_1 (<span style=\"color: #0087ff; text-decoration-color: #0087ff\">Dropout</span>)         │ (<span style=\"color: #00d7ff; text-decoration-color: #00d7ff\">None</span>, <span style=\"color: #00af00; text-decoration-color: #00af00\">1375</span>, <span style=\"color: #00af00; text-decoration-color: #00af00\">128</span>)      │             <span style=\"color: #00af00; text-decoration-color: #00af00\">0</span> │\n",
       "├─────────────────────────────────┼────────────────────────┼───────────────┤\n",
       "│ bn_gru_1 (<span style=\"color: #0087ff; text-decoration-color: #0087ff\">BatchNormalization</span>)   │ (<span style=\"color: #00d7ff; text-decoration-color: #00d7ff\">None</span>, <span style=\"color: #00af00; text-decoration-color: #00af00\">1375</span>, <span style=\"color: #00af00; text-decoration-color: #00af00\">128</span>)      │           <span style=\"color: #00af00; text-decoration-color: #00af00\">512</span> │\n",
       "├─────────────────────────────────┼────────────────────────┼───────────────┤\n",
       "│ gru_2 (<span style=\"color: #0087ff; text-decoration-color: #0087ff\">GRU</span>)                     │ (<span style=\"color: #00d7ff; text-decoration-color: #00d7ff\">None</span>, <span style=\"color: #00af00; text-decoration-color: #00af00\">1375</span>, <span style=\"color: #00af00; text-decoration-color: #00af00\">128</span>)      │        <span style=\"color: #00af00; text-decoration-color: #00af00\">99,072</span> │\n",
       "├─────────────────────────────────┼────────────────────────┼───────────────┤\n",
       "│ dropout_gru_2a (<span style=\"color: #0087ff; text-decoration-color: #0087ff\">Dropout</span>)        │ (<span style=\"color: #00d7ff; text-decoration-color: #00d7ff\">None</span>, <span style=\"color: #00af00; text-decoration-color: #00af00\">1375</span>, <span style=\"color: #00af00; text-decoration-color: #00af00\">128</span>)      │             <span style=\"color: #00af00; text-decoration-color: #00af00\">0</span> │\n",
       "├─────────────────────────────────┼────────────────────────┼───────────────┤\n",
       "│ bn_gru_2 (<span style=\"color: #0087ff; text-decoration-color: #0087ff\">BatchNormalization</span>)   │ (<span style=\"color: #00d7ff; text-decoration-color: #00d7ff\">None</span>, <span style=\"color: #00af00; text-decoration-color: #00af00\">1375</span>, <span style=\"color: #00af00; text-decoration-color: #00af00\">128</span>)      │           <span style=\"color: #00af00; text-decoration-color: #00af00\">512</span> │\n",
       "├─────────────────────────────────┼────────────────────────┼───────────────┤\n",
       "│ dropout_gru_2b (<span style=\"color: #0087ff; text-decoration-color: #0087ff\">Dropout</span>)        │ (<span style=\"color: #00d7ff; text-decoration-color: #00d7ff\">None</span>, <span style=\"color: #00af00; text-decoration-color: #00af00\">1375</span>, <span style=\"color: #00af00; text-decoration-color: #00af00\">128</span>)      │             <span style=\"color: #00af00; text-decoration-color: #00af00\">0</span> │\n",
       "├─────────────────────────────────┼────────────────────────┼───────────────┤\n",
       "│ time_distributed_output         │ (<span style=\"color: #00d7ff; text-decoration-color: #00d7ff\">None</span>, <span style=\"color: #00af00; text-decoration-color: #00af00\">1375</span>, <span style=\"color: #00af00; text-decoration-color: #00af00\">1</span>)        │           <span style=\"color: #00af00; text-decoration-color: #00af00\">129</span> │\n",
       "│ (<span style=\"color: #0087ff; text-decoration-color: #0087ff\">TimeDistributed</span>)               │                        │               │\n",
       "└─────────────────────────────────┴────────────────────────┴───────────────┘\n",
       "</pre>\n"
      ],
      "text/plain": [
       "┏━━━━━━━━━━━━━━━━━━━━━━━━━━━━━━━━━┳━━━━━━━━━━━━━━━━━━━━━━━━┳━━━━━━━━━━━━━━━┓\n",
       "┃\u001b[1m \u001b[0m\u001b[1mLayer (type)                   \u001b[0m\u001b[1m \u001b[0m┃\u001b[1m \u001b[0m\u001b[1mOutput Shape          \u001b[0m\u001b[1m \u001b[0m┃\u001b[1m \u001b[0m\u001b[1m      Param #\u001b[0m\u001b[1m \u001b[0m┃\n",
       "┡━━━━━━━━━━━━━━━━━━━━━━━━━━━━━━━━━╇━━━━━━━━━━━━━━━━━━━━━━━━╇━━━━━━━━━━━━━━━┩\n",
       "│ input (\u001b[38;5;33mInputLayer\u001b[0m)              │ (\u001b[38;5;45mNone\u001b[0m, \u001b[38;5;34m5511\u001b[0m, \u001b[38;5;34m101\u001b[0m)      │             \u001b[38;5;34m0\u001b[0m │\n",
       "├─────────────────────────────────┼────────────────────────┼───────────────┤\n",
       "│ conv1d (\u001b[38;5;33mConv1D\u001b[0m)                 │ (\u001b[38;5;45mNone\u001b[0m, \u001b[38;5;34m1375\u001b[0m, \u001b[38;5;34m196\u001b[0m)      │       \u001b[38;5;34m297,136\u001b[0m │\n",
       "├─────────────────────────────────┼────────────────────────┼───────────────┤\n",
       "│ bn_conv (\u001b[38;5;33mBatchNormalization\u001b[0m)    │ (\u001b[38;5;45mNone\u001b[0m, \u001b[38;5;34m1375\u001b[0m, \u001b[38;5;34m196\u001b[0m)      │           \u001b[38;5;34m784\u001b[0m │\n",
       "├─────────────────────────────────┼────────────────────────┼───────────────┤\n",
       "│ relu_conv (\u001b[38;5;33mActivation\u001b[0m)          │ (\u001b[38;5;45mNone\u001b[0m, \u001b[38;5;34m1375\u001b[0m, \u001b[38;5;34m196\u001b[0m)      │             \u001b[38;5;34m0\u001b[0m │\n",
       "├─────────────────────────────────┼────────────────────────┼───────────────┤\n",
       "│ dropout_conv (\u001b[38;5;33mDropout\u001b[0m)          │ (\u001b[38;5;45mNone\u001b[0m, \u001b[38;5;34m1375\u001b[0m, \u001b[38;5;34m196\u001b[0m)      │             \u001b[38;5;34m0\u001b[0m │\n",
       "├─────────────────────────────────┼────────────────────────┼───────────────┤\n",
       "│ gru_1 (\u001b[38;5;33mGRU\u001b[0m)                     │ (\u001b[38;5;45mNone\u001b[0m, \u001b[38;5;34m1375\u001b[0m, \u001b[38;5;34m128\u001b[0m)      │       \u001b[38;5;34m125,184\u001b[0m │\n",
       "├─────────────────────────────────┼────────────────────────┼───────────────┤\n",
       "│ dropout_gru_1 (\u001b[38;5;33mDropout\u001b[0m)         │ (\u001b[38;5;45mNone\u001b[0m, \u001b[38;5;34m1375\u001b[0m, \u001b[38;5;34m128\u001b[0m)      │             \u001b[38;5;34m0\u001b[0m │\n",
       "├─────────────────────────────────┼────────────────────────┼───────────────┤\n",
       "│ bn_gru_1 (\u001b[38;5;33mBatchNormalization\u001b[0m)   │ (\u001b[38;5;45mNone\u001b[0m, \u001b[38;5;34m1375\u001b[0m, \u001b[38;5;34m128\u001b[0m)      │           \u001b[38;5;34m512\u001b[0m │\n",
       "├─────────────────────────────────┼────────────────────────┼───────────────┤\n",
       "│ gru_2 (\u001b[38;5;33mGRU\u001b[0m)                     │ (\u001b[38;5;45mNone\u001b[0m, \u001b[38;5;34m1375\u001b[0m, \u001b[38;5;34m128\u001b[0m)      │        \u001b[38;5;34m99,072\u001b[0m │\n",
       "├─────────────────────────────────┼────────────────────────┼───────────────┤\n",
       "│ dropout_gru_2a (\u001b[38;5;33mDropout\u001b[0m)        │ (\u001b[38;5;45mNone\u001b[0m, \u001b[38;5;34m1375\u001b[0m, \u001b[38;5;34m128\u001b[0m)      │             \u001b[38;5;34m0\u001b[0m │\n",
       "├─────────────────────────────────┼────────────────────────┼───────────────┤\n",
       "│ bn_gru_2 (\u001b[38;5;33mBatchNormalization\u001b[0m)   │ (\u001b[38;5;45mNone\u001b[0m, \u001b[38;5;34m1375\u001b[0m, \u001b[38;5;34m128\u001b[0m)      │           \u001b[38;5;34m512\u001b[0m │\n",
       "├─────────────────────────────────┼────────────────────────┼───────────────┤\n",
       "│ dropout_gru_2b (\u001b[38;5;33mDropout\u001b[0m)        │ (\u001b[38;5;45mNone\u001b[0m, \u001b[38;5;34m1375\u001b[0m, \u001b[38;5;34m128\u001b[0m)      │             \u001b[38;5;34m0\u001b[0m │\n",
       "├─────────────────────────────────┼────────────────────────┼───────────────┤\n",
       "│ time_distributed_output         │ (\u001b[38;5;45mNone\u001b[0m, \u001b[38;5;34m1375\u001b[0m, \u001b[38;5;34m1\u001b[0m)        │           \u001b[38;5;34m129\u001b[0m │\n",
       "│ (\u001b[38;5;33mTimeDistributed\u001b[0m)               │                        │               │\n",
       "└─────────────────────────────────┴────────────────────────┴───────────────┘\n"
      ]
     },
     "metadata": {},
     "output_type": "display_data"
    },
    {
     "data": {
      "text/html": [
       "<pre style=\"white-space:pre;overflow-x:auto;line-height:normal;font-family:Menlo,'DejaVu Sans Mono',consolas,'Courier New',monospace\"><span style=\"font-weight: bold\"> Total params: </span><span style=\"color: #00af00; text-decoration-color: #00af00\">523,329</span> (2.00 MB)\n",
       "</pre>\n"
      ],
      "text/plain": [
       "\u001b[1m Total params: \u001b[0m\u001b[38;5;34m523,329\u001b[0m (2.00 MB)\n"
      ]
     },
     "metadata": {},
     "output_type": "display_data"
    },
    {
     "data": {
      "text/html": [
       "<pre style=\"white-space:pre;overflow-x:auto;line-height:normal;font-family:Menlo,'DejaVu Sans Mono',consolas,'Courier New',monospace\"><span style=\"font-weight: bold\"> Trainable params: </span><span style=\"color: #00af00; text-decoration-color: #00af00\">522,425</span> (1.99 MB)\n",
       "</pre>\n"
      ],
      "text/plain": [
       "\u001b[1m Trainable params: \u001b[0m\u001b[38;5;34m522,425\u001b[0m (1.99 MB)\n"
      ]
     },
     "metadata": {},
     "output_type": "display_data"
    },
    {
     "data": {
      "text/html": [
       "<pre style=\"white-space:pre;overflow-x:auto;line-height:normal;font-family:Menlo,'DejaVu Sans Mono',consolas,'Courier New',monospace\"><span style=\"font-weight: bold\"> Non-trainable params: </span><span style=\"color: #00af00; text-decoration-color: #00af00\">904</span> (3.53 KB)\n",
       "</pre>\n"
      ],
      "text/plain": [
       "\u001b[1m Non-trainable params: \u001b[0m\u001b[38;5;34m904\u001b[0m (3.53 KB)\n"
      ]
     },
     "metadata": {},
     "output_type": "display_data"
    },
    {
     "name": "stdout",
     "output_type": "stream",
     "text": [
      "\n",
      "✓ Model built successfully!\n",
      "\n"
     ]
    }
   ],
   "source": [
    "# ============================================================================\n",
    "# SECTION 4: Model Architecture\n",
    "# ============================================================================\n",
    "\n",
    "def build_model(input_shape):\n",
    "    \"\"\"\n",
    "    Builds the wake word detection model using Keras Functional API.\n",
    "    \n",
    "    Architecture:\n",
    "        1. Conv1D layer for feature extraction\n",
    "        2. Two stacked GRU layers for temporal modeling\n",
    "        3. TimeDistributed Dense layer for sequence labeling\n",
    "    \n",
    "    Parameters:\n",
    "        input_shape (tuple): Shape of input data (Tx, N_FREQ)\n",
    "    \n",
    "    Returns:\n",
    "        Model: Compiled Keras model\n",
    "    \"\"\"\n",
    "    \n",
    "    X_input = Input(shape=input_shape, name='input')\n",
    "    \n",
    "    # ========================================\n",
    "    # Layer 1: Convolutional Feature Extraction\n",
    "    # ========================================\n",
    "    X = Conv1D(\n",
    "        filters=196, \n",
    "        kernel_size=15, \n",
    "        strides=4,\n",
    "        name='conv1d'\n",
    "    )(X_input)\n",
    "    X = BatchNormalization(name='bn_conv')(X)\n",
    "    X = Activation('relu', name='relu_conv')(X)\n",
    "    X = Dropout(0.8, name='dropout_conv')(X)\n",
    "    \n",
    "    # ========================================\n",
    "    # Layer 2: First GRU Layer\n",
    "    # ========================================\n",
    "    X = GRU(\n",
    "        units=128, \n",
    "        return_sequences=True,\n",
    "        name='gru_1'\n",
    "    )(X)\n",
    "    X = Dropout(0.8, name='dropout_gru_1')(X)\n",
    "    X = BatchNormalization(name='bn_gru_1')(X)\n",
    "    \n",
    "    # ========================================\n",
    "    # Layer 3: Second GRU Layer\n",
    "    # ========================================\n",
    "    X = GRU(\n",
    "        units=128, \n",
    "        return_sequences=True,\n",
    "        name='gru_2'\n",
    "    )(X)\n",
    "    X = Dropout(0.8, name='dropout_gru_2a')(X)\n",
    "    X = BatchNormalization(name='bn_gru_2')(X)\n",
    "    X = Dropout(0.8, name='dropout_gru_2b')(X)\n",
    "    \n",
    "    # ========================================\n",
    "    # Layer 4: Output Layer\n",
    "    # ========================================\n",
    "    X = TimeDistributed(\n",
    "        Dense(1, activation='sigmoid'),\n",
    "        name='time_distributed_output'\n",
    "    )(X)\n",
    "    \n",
    "    # Create model\n",
    "    model = Model(inputs=X_input, outputs=X, name='WakeWordDetector')\n",
    "    \n",
    "    return model\n",
    "\n",
    "\n",
    "# Build the model\n",
    "print(\"=\"*60)\n",
    "print(\"BUILDING MODEL\")\n",
    "print(\"=\"*60)\n",
    "\n",
    "model = build_model(input_shape=(Tx, N_FREQ))\n",
    "\n",
    "# Display model architecture\n",
    "model.summary()\n",
    "\n",
    "print(\"\\n✓ Model built successfully!\\n\")"
   ]
  },
  {
   "cell_type": "code",
   "execution_count": 26,
   "id": "3440f799",
   "metadata": {},
   "outputs": [
    {
     "name": "stdout",
     "output_type": "stream",
     "text": [
      "Compiling model...\n",
      "✓ Model compiled successfully!\n",
      "\n"
     ]
    }
   ],
   "source": [
    "# ============================================================================\n",
    "# SECTION 5: Model Compilation\n",
    "# ============================================================================\n",
    "\n",
    "print(\"Compiling model...\")\n",
    "\n",
    "# Configure optimizer\n",
    "optimizer = Adam(\n",
    "    learning_rate=LEARNING_RATE,\n",
    "    beta_1=BETA_1,\n",
    "    beta_2=BETA_2\n",
    ")\n",
    "\n",
    "# Compile model\n",
    "model.compile(\n",
    "    loss='binary_crossentropy',\n",
    "    optimizer=optimizer,\n",
    "    metrics=['accuracy']\n",
    ")\n",
    "\n",
    "print(\"✓ Model compiled successfully!\\n\")"
   ]
  },
  {
   "cell_type": "code",
   "execution_count": 27,
   "id": "5f1e3b6b",
   "metadata": {},
   "outputs": [
    {
     "name": "stdout",
     "output_type": "stream",
     "text": [
      "Training callbacks configured:\n",
      "  ✓ ModelCheckpoint - saves best model\n",
      "  ✓ ReduceLROnPlateau - adjusts learning rate\n",
      "\n"
     ]
    }
   ],
   "source": [
    "# ============================================================================\n",
    "# SECTION 6: Setup Training Callbacks\n",
    "# ============================================================================\n",
    "\n",
    "# Create models directory if it doesn't exist\n",
    "os.makedirs(MODEL_PATH, exist_ok=True)\n",
    "\n",
    "# Define callbacks\n",
    "callbacks = [\n",
    "    # Save best model\n",
    "    ModelCheckpoint(\n",
    "        filepath=f\"{MODEL_PATH}/{MODEL_NAME}\",\n",
    "        monitor='loss',\n",
    "        save_best_only=True,\n",
    "        mode='min',\n",
    "        verbose=1\n",
    "    ),\n",
    "    \n",
    "    # Reduce learning rate on plateau\n",
    "    ReduceLROnPlateau(\n",
    "        monitor='loss',\n",
    "        factor=0.5,\n",
    "        patience=5,\n",
    "        min_lr=1e-8,\n",
    "        verbose=1\n",
    "    )\n",
    "]\n",
    "\n",
    "print(\"Training callbacks configured:\")\n",
    "print(\"  ✓ ModelCheckpoint - saves best model\")\n",
    "print(\"  ✓ ReduceLROnPlateau - adjusts learning rate\\n\")"
   ]
  },
  {
   "cell_type": "code",
   "execution_count": 28,
   "id": "d67160ac",
   "metadata": {},
   "outputs": [
    {
     "name": "stdout",
     "output_type": "stream",
     "text": [
      "============================================================\n",
      "TRAINING MODEL\n",
      "============================================================\n",
      "Training on 32 samples...\n",
      "Batch size: 16, Epochs: 20\n",
      "\n",
      "Epoch 1/20\n",
      "\u001b[1m2/2\u001b[0m \u001b[32m━━━━━━━━━━━━━━━━━━━━\u001b[0m\u001b[37m\u001b[0m \u001b[1m0s\u001b[0m 5s/step - accuracy: 0.5015 - loss: 1.3464  \n",
      "Epoch 1: loss improved from None to 1.34231, saving model to ../models/wakeword_model.h5\n"
     ]
    },
    {
     "name": "stderr",
     "output_type": "stream",
     "text": [
      "WARNING:absl:You are saving your model as an HDF5 file via `model.save()` or `keras.saving.save_model(model)`. This file format is considered legacy. We recommend using instead the native Keras format, e.g. `model.save('my_model.keras')` or `keras.saving.save_model(model, 'my_model.keras')`. \n"
     ]
    },
    {
     "name": "stdout",
     "output_type": "stream",
     "text": [
      "\u001b[1m2/2\u001b[0m \u001b[32m━━━━━━━━━━━━━━━━━━━━\u001b[0m\u001b[37m\u001b[0m \u001b[1m58s\u001b[0m 5s/step - accuracy: 0.5011 - loss: 1.3423 - learning_rate: 1.0000e-06\n",
      "Epoch 2/20\n",
      "\u001b[1m2/2\u001b[0m \u001b[32m━━━━━━━━━━━━━━━━━━━━\u001b[0m\u001b[37m\u001b[0m \u001b[1m0s\u001b[0m 4s/step - accuracy: 0.5036 - loss: 1.3383\n",
      "Epoch 2: loss did not improve from 1.34231\n",
      "\u001b[1m2/2\u001b[0m \u001b[32m━━━━━━━━━━━━━━━━━━━━\u001b[0m\u001b[37m\u001b[0m \u001b[1m8s\u001b[0m 4s/step - accuracy: 0.5030 - loss: 1.3446 - learning_rate: 1.0000e-06\n",
      "Epoch 3/20\n",
      "\u001b[1m2/2\u001b[0m \u001b[32m━━━━━━━━━━━━━━━━━━━━\u001b[0m\u001b[37m\u001b[0m \u001b[1m0s\u001b[0m 4s/step - accuracy: 0.5052 - loss: 1.3325\n",
      "Epoch 3: loss improved from 1.34231 to 1.33777, saving model to ../models/wakeword_model.h5\n"
     ]
    },
    {
     "name": "stderr",
     "output_type": "stream",
     "text": [
      "WARNING:absl:You are saving your model as an HDF5 file via `model.save()` or `keras.saving.save_model(model)`. This file format is considered legacy. We recommend using instead the native Keras format, e.g. `model.save('my_model.keras')` or `keras.saving.save_model(model, 'my_model.keras')`. \n"
     ]
    },
    {
     "name": "stdout",
     "output_type": "stream",
     "text": [
      "\u001b[1m2/2\u001b[0m \u001b[32m━━━━━━━━━━━━━━━━━━━━\u001b[0m\u001b[37m\u001b[0m \u001b[1m9s\u001b[0m 4s/step - accuracy: 0.5031 - loss: 1.3378 - learning_rate: 1.0000e-06\n",
      "Epoch 4/20\n",
      "\u001b[1m2/2\u001b[0m \u001b[32m━━━━━━━━━━━━━━━━━━━━\u001b[0m\u001b[37m\u001b[0m \u001b[1m0s\u001b[0m 4s/step - accuracy: 0.5024 - loss: 1.3420\n",
      "Epoch 4: loss improved from 1.33777 to 1.33435, saving model to ../models/wakeword_model.h5\n"
     ]
    },
    {
     "name": "stderr",
     "output_type": "stream",
     "text": [
      "WARNING:absl:You are saving your model as an HDF5 file via `model.save()` or `keras.saving.save_model(model)`. This file format is considered legacy. We recommend using instead the native Keras format, e.g. `model.save('my_model.keras')` or `keras.saving.save_model(model, 'my_model.keras')`. \n"
     ]
    },
    {
     "name": "stdout",
     "output_type": "stream",
     "text": [
      "\u001b[1m2/2\u001b[0m \u001b[32m━━━━━━━━━━━━━━━━━━━━\u001b[0m\u001b[37m\u001b[0m \u001b[1m9s\u001b[0m 4s/step - accuracy: 0.5042 - loss: 1.3344 - learning_rate: 1.0000e-06\n",
      "Epoch 5/20\n",
      "\u001b[1m2/2\u001b[0m \u001b[32m━━━━━━━━━━━━━━━━━━━━\u001b[0m\u001b[37m\u001b[0m \u001b[1m0s\u001b[0m 4s/step - accuracy: 0.5036 - loss: 1.3597\n",
      "Epoch 5: loss did not improve from 1.33435\n",
      "\u001b[1m2/2\u001b[0m \u001b[32m━━━━━━━━━━━━━━━━━━━━\u001b[0m\u001b[37m\u001b[0m \u001b[1m8s\u001b[0m 4s/step - accuracy: 0.5037 - loss: 1.3596 - learning_rate: 1.0000e-06\n",
      "Epoch 6/20\n",
      "\u001b[1m2/2\u001b[0m \u001b[32m━━━━━━━━━━━━━━━━━━━━\u001b[0m\u001b[37m\u001b[0m \u001b[1m0s\u001b[0m 4s/step - accuracy: 0.4987 - loss: 1.3540\n",
      "Epoch 6: loss did not improve from 1.33435\n",
      "\u001b[1m2/2\u001b[0m \u001b[32m━━━━━━━━━━━━━━━━━━━━\u001b[0m\u001b[37m\u001b[0m \u001b[1m9s\u001b[0m 4s/step - accuracy: 0.5006 - loss: 1.3503 - learning_rate: 1.0000e-06\n",
      "Epoch 7/20\n",
      "\u001b[1m2/2\u001b[0m \u001b[32m━━━━━━━━━━━━━━━━━━━━\u001b[0m\u001b[37m\u001b[0m \u001b[1m0s\u001b[0m 4s/step - accuracy: 0.5040 - loss: 1.3412\n",
      "Epoch 7: loss did not improve from 1.33435\n",
      "\u001b[1m2/2\u001b[0m \u001b[32m━━━━━━━━━━━━━━━━━━━━\u001b[0m\u001b[37m\u001b[0m \u001b[1m9s\u001b[0m 4s/step - accuracy: 0.5040 - loss: 1.3388 - learning_rate: 1.0000e-06\n",
      "Epoch 8/20\n",
      "\u001b[1m2/2\u001b[0m \u001b[32m━━━━━━━━━━━━━━━━━━━━\u001b[0m\u001b[37m\u001b[0m \u001b[1m0s\u001b[0m 4s/step - accuracy: 0.5020 - loss: 1.3393\n",
      "Epoch 8: loss did not improve from 1.33435\n",
      "\u001b[1m2/2\u001b[0m \u001b[32m━━━━━━━━━━━━━━━━━━━━\u001b[0m\u001b[37m\u001b[0m \u001b[1m8s\u001b[0m 4s/step - accuracy: 0.5033 - loss: 1.3360 - learning_rate: 1.0000e-06\n",
      "Epoch 9/20\n",
      "\u001b[1m2/2\u001b[0m \u001b[32m━━━━━━━━━━━━━━━━━━━━\u001b[0m\u001b[37m\u001b[0m \u001b[1m0s\u001b[0m 4s/step - accuracy: 0.5052 - loss: 1.3464\n",
      "Epoch 9: loss did not improve from 1.33435\n",
      "\n",
      "Epoch 9: ReduceLROnPlateau reducing learning rate to 4.999999987376214e-07.\n",
      "\u001b[1m2/2\u001b[0m \u001b[32m━━━━━━━━━━━━━━━━━━━━\u001b[0m\u001b[37m\u001b[0m \u001b[1m8s\u001b[0m 4s/step - accuracy: 0.5036 - loss: 1.3447 - learning_rate: 1.0000e-06\n",
      "Epoch 10/20\n",
      "\u001b[1m2/2\u001b[0m \u001b[32m━━━━━━━━━━━━━━━━━━━━\u001b[0m\u001b[37m\u001b[0m \u001b[1m0s\u001b[0m 4s/step - accuracy: 0.5035 - loss: 1.3401\n",
      "Epoch 10: loss did not improve from 1.33435\n",
      "\u001b[1m2/2\u001b[0m \u001b[32m━━━━━━━━━━━━━━━━━━━━\u001b[0m\u001b[37m\u001b[0m \u001b[1m8s\u001b[0m 4s/step - accuracy: 0.5043 - loss: 1.3388 - learning_rate: 5.0000e-07\n",
      "Epoch 11/20\n",
      "\u001b[1m2/2\u001b[0m \u001b[32m━━━━━━━━━━━━━━━━━━━━\u001b[0m\u001b[37m\u001b[0m \u001b[1m0s\u001b[0m 4s/step - accuracy: 0.5083 - loss: 1.3357\n",
      "Epoch 11: loss did not improve from 1.33435\n",
      "\u001b[1m2/2\u001b[0m \u001b[32m━━━━━━━━━━━━━━━━━━━━\u001b[0m\u001b[37m\u001b[0m \u001b[1m8s\u001b[0m 4s/step - accuracy: 0.5060 - loss: 1.3359 - learning_rate: 5.0000e-07\n",
      "Epoch 12/20\n",
      "\u001b[1m2/2\u001b[0m \u001b[32m━━━━━━━━━━━━━━━━━━━━\u001b[0m\u001b[37m\u001b[0m \u001b[1m0s\u001b[0m 4s/step - accuracy: 0.5027 - loss: 1.3591\n",
      "Epoch 12: loss did not improve from 1.33435\n",
      "\u001b[1m2/2\u001b[0m \u001b[32m━━━━━━━━━━━━━━━━━━━━\u001b[0m\u001b[37m\u001b[0m \u001b[1m8s\u001b[0m 4s/step - accuracy: 0.5028 - loss: 1.3522 - learning_rate: 5.0000e-07\n",
      "Epoch 13/20\n",
      "\u001b[1m2/2\u001b[0m \u001b[32m━━━━━━━━━━━━━━━━━━━━\u001b[0m\u001b[37m\u001b[0m \u001b[1m0s\u001b[0m 4s/step - accuracy: 0.5005 - loss: 1.3517\n",
      "Epoch 13: loss did not improve from 1.33435\n",
      "\u001b[1m2/2\u001b[0m \u001b[32m━━━━━━━━━━━━━━━━━━━━\u001b[0m\u001b[37m\u001b[0m \u001b[1m8s\u001b[0m 4s/step - accuracy: 0.5013 - loss: 1.3489 - learning_rate: 5.0000e-07\n",
      "Epoch 14/20\n",
      "\u001b[1m2/2\u001b[0m \u001b[32m━━━━━━━━━━━━━━━━━━━━\u001b[0m\u001b[37m\u001b[0m \u001b[1m0s\u001b[0m 4s/step - accuracy: 0.5031 - loss: 1.3503\n",
      "Epoch 14: loss did not improve from 1.33435\n",
      "\n",
      "Epoch 14: ReduceLROnPlateau reducing learning rate to 2.499999993688107e-07.\n",
      "\u001b[1m2/2\u001b[0m \u001b[32m━━━━━━━━━━━━━━━━━━━━\u001b[0m\u001b[37m\u001b[0m \u001b[1m8s\u001b[0m 4s/step - accuracy: 0.5030 - loss: 1.3477 - learning_rate: 5.0000e-07\n",
      "Epoch 15/20\n",
      "\u001b[1m2/2\u001b[0m \u001b[32m━━━━━━━━━━━━━━━━━━━━\u001b[0m\u001b[37m\u001b[0m \u001b[1m0s\u001b[0m 4s/step - accuracy: 0.5051 - loss: 1.3340\n",
      "Epoch 15: loss improved from 1.33435 to 1.33390, saving model to ../models/wakeword_model.h5\n"
     ]
    },
    {
     "name": "stderr",
     "output_type": "stream",
     "text": [
      "WARNING:absl:You are saving your model as an HDF5 file via `model.save()` or `keras.saving.save_model(model)`. This file format is considered legacy. We recommend using instead the native Keras format, e.g. `model.save('my_model.keras')` or `keras.saving.save_model(model, 'my_model.keras')`. \n"
     ]
    },
    {
     "name": "stdout",
     "output_type": "stream",
     "text": [
      "\u001b[1m2/2\u001b[0m \u001b[32m━━━━━━━━━━━━━━━━━━━━\u001b[0m\u001b[37m\u001b[0m \u001b[1m8s\u001b[0m 4s/step - accuracy: 0.5056 - loss: 1.3339 - learning_rate: 2.5000e-07\n",
      "Epoch 16/20\n",
      "\u001b[1m2/2\u001b[0m \u001b[32m━━━━━━━━━━━━━━━━━━━━\u001b[0m\u001b[37m\u001b[0m \u001b[1m0s\u001b[0m 4s/step - accuracy: 0.5080 - loss: 1.3423\n",
      "Epoch 16: loss did not improve from 1.33390\n",
      "\u001b[1m2/2\u001b[0m \u001b[32m━━━━━━━━━━━━━━━━━━━━\u001b[0m\u001b[37m\u001b[0m \u001b[1m9s\u001b[0m 4s/step - accuracy: 0.5068 - loss: 1.3406 - learning_rate: 2.5000e-07\n",
      "Epoch 17/20\n",
      "\u001b[1m2/2\u001b[0m \u001b[32m━━━━━━━━━━━━━━━━━━━━\u001b[0m\u001b[37m\u001b[0m \u001b[1m0s\u001b[0m 4s/step - accuracy: 0.4994 - loss: 1.3397\n",
      "Epoch 17: loss did not improve from 1.33390\n",
      "\u001b[1m2/2\u001b[0m \u001b[32m━━━━━━━━━━━━━━━━━━━━\u001b[0m\u001b[37m\u001b[0m \u001b[1m8s\u001b[0m 4s/step - accuracy: 0.5010 - loss: 1.3369 - learning_rate: 2.5000e-07\n",
      "Epoch 18/20\n",
      "\u001b[1m2/2\u001b[0m \u001b[32m━━━━━━━━━━━━━━━━━━━━\u001b[0m\u001b[37m\u001b[0m \u001b[1m0s\u001b[0m 4s/step - accuracy: 0.5015 - loss: 1.3442\n",
      "Epoch 18: loss did not improve from 1.33390\n",
      "\u001b[1m2/2\u001b[0m \u001b[32m━━━━━━━━━━━━━━━━━━━━\u001b[0m\u001b[37m\u001b[0m \u001b[1m8s\u001b[0m 4s/step - accuracy: 0.5016 - loss: 1.3484 - learning_rate: 2.5000e-07\n",
      "Epoch 19/20\n",
      "\u001b[1m2/2\u001b[0m \u001b[32m━━━━━━━━━━━━━━━━━━━━\u001b[0m\u001b[37m\u001b[0m \u001b[1m0s\u001b[0m 4s/step - accuracy: 0.5027 - loss: 1.3378\n",
      "Epoch 19: loss did not improve from 1.33390\n",
      "\u001b[1m2/2\u001b[0m \u001b[32m━━━━━━━━━━━━━━━━━━━━\u001b[0m\u001b[37m\u001b[0m \u001b[1m9s\u001b[0m 4s/step - accuracy: 0.5020 - loss: 1.3420 - learning_rate: 2.5000e-07\n",
      "Epoch 20/20\n",
      "\u001b[1m2/2\u001b[0m \u001b[32m━━━━━━━━━━━━━━━━━━━━\u001b[0m\u001b[37m\u001b[0m \u001b[1m0s\u001b[0m 4s/step - accuracy: 0.5066 - loss: 1.3336\n",
      "Epoch 20: loss did not improve from 1.33390\n",
      "\n",
      "Epoch 20: ReduceLROnPlateau reducing learning rate to 1.2499999968440534e-07.\n",
      "\u001b[1m2/2\u001b[0m \u001b[32m━━━━━━━━━━━━━━━━━━━━\u001b[0m\u001b[37m\u001b[0m \u001b[1m8s\u001b[0m 4s/step - accuracy: 0.5051 - loss: 1.3362 - learning_rate: 2.5000e-07\n",
      "\n",
      "✓ Training completed!\n",
      "\n"
     ]
    }
   ],
   "source": [
    "# ============================================================================\n",
    "# SECTION 7: Train Model\n",
    "# ============================================================================\n",
    "\n",
    "print(\"=\"*60)\n",
    "print(\"TRAINING MODEL\")\n",
    "print(\"=\"*60)\n",
    "print(f\"Training on {X_train.shape[0]} samples...\")\n",
    "print(f\"Batch size: {BATCH_SIZE}, Epochs: {EPOCHS}\\n\")\n",
    "\n",
    "# Train the model\n",
    "history = model.fit(\n",
    "    X_train, \n",
    "    Y_train,\n",
    "    batch_size=BATCH_SIZE,\n",
    "    epochs=EPOCHS,\n",
    "    callbacks=callbacks,\n",
    "    verbose=1\n",
    ")\n",
    "\n",
    "print(\"\\n✓ Training completed!\\n\")"
   ]
  },
  {
   "cell_type": "code",
   "execution_count": 29,
   "id": "bcf0b468",
   "metadata": {},
   "outputs": [
    {
     "data": {
      "image/png": "[encoded data removed]",
      "text/plain": [
       "<Figure size 1400x500 with 2 Axes>"
      ]
     },
     "metadata": {},
     "output_type": "display_data"
    }
   ],
   "source": [
    "# ============================================================================\n",
    "# SECTION 8: Training History Visualization\n",
    "# ============================================================================\n",
    "\n",
    "def plot_training_history(history):\n",
    "    \"\"\"Plot training loss and accuracy.\"\"\"\n",
    "    \n",
    "    fig, axes = plt.subplots(1, 2, figsize=(14, 5))\n",
    "    \n",
    "    # Plot loss\n",
    "    axes[0].plot(history.history['loss'], 'b-', linewidth=2, label='Training Loss')\n",
    "    axes[0].set_xlabel('Epoch', fontsize=12)\n",
    "    axes[0].set_ylabel('Loss', fontsize=12)\n",
    "    axes[0].set_title('Training Loss Over Time', fontsize=14, fontweight='bold')\n",
    "    axes[0].grid(True, alpha=0.3)\n",
    "    axes[0].legend()\n",
    "    \n",
    "    # Plot accuracy\n",
    "    axes[1].plot(history.history['accuracy'], 'g-', linewidth=2, label='Training Accuracy')\n",
    "    axes[1].set_xlabel('Epoch', fontsize=12)\n",
    "    axes[1].set_ylabel('Accuracy', fontsize=12)\n",
    "    axes[1].set_title('Training Accuracy Over Time', fontsize=14, fontweight='bold')\n",
    "    axes[1].grid(True, alpha=0.3)\n",
    "    axes[1].legend()\n",
    "    \n",
    "    plt.tight_layout()\n",
    "    plt.show()\n",
    "\n",
    "# Plot training history\n",
    "if EPOCHS > 1:\n",
    "    plot_training_history(history)\n",
    "else:\n",
    "    print(\"Note: Run for more epochs to see training curves\\n\")"
   ]
  },
  {
   "cell_type": "code",
   "execution_count": 30,
   "id": "74f09283",
   "metadata": {},
   "outputs": [
    {
     "name": "stdout",
     "output_type": "stream",
     "text": [
      "============================================================\n",
      "TRAINING SUMMARY\n",
      "============================================================\n",
      "Final Training Loss: 1.336174\n",
      "Final Training Accuracy: 0.5051\n",
      "Total Parameters: 523,329\n",
      "Model saved to: ../models/wakeword_model.h5\n",
      "============================================================\n",
      "\n"
     ]
    }
   ],
   "source": [
    "# ============================================================================\n",
    "# SECTION 9: Model Summary and Statistics\n",
    "# ============================================================================\n",
    "\n",
    "print(\"=\"*60)\n",
    "print(\"TRAINING SUMMARY\")\n",
    "print(\"=\"*60)\n",
    "\n",
    "final_loss = history.history['loss'][-1]\n",
    "final_accuracy = history.history['accuracy'][-1]\n",
    "\n",
    "print(f\"Final Training Loss: {final_loss:.6f}\")\n",
    "print(f\"Final Training Accuracy: {final_accuracy:.4f}\")\n",
    "print(f\"Total Parameters: {model.count_params():,}\")\n",
    "print(f\"Model saved to: {MODEL_PATH}/{MODEL_NAME}\")\n",
    "print(\"=\"*60 + \"\\n\")"
   ]
  },
  {
   "cell_type": "code",
   "execution_count": 31,
   "id": "37303dcc",
   "metadata": {},
   "outputs": [
    {
     "name": "stderr",
     "output_type": "stream",
     "text": [
      "WARNING:absl:You are saving your model as an HDF5 file via `model.save()` or `keras.saving.save_model(model)`. This file format is considered legacy. We recommend using instead the native Keras format, e.g. `model.save('my_model.keras')` or `keras.saving.save_model(model, 'my_model.keras')`. \n",
      "WARNING:absl:Compiled the loaded model, but the compiled metrics have yet to be built. `model.compile_metrics` will be empty until you train or evaluate the model.\n"
     ]
    },
    {
     "name": "stdout",
     "output_type": "stream",
     "text": [
      "✓ Model saved to: ../models/wakeword_model.h5\n",
      "\n",
      "Verifying saved model...\n",
      "✓ Model loaded successfully!\n",
      "✓ Model verification complete!\n",
      "\n",
      "Model Verification:\n",
      "  Original parameters: 523,329\n",
      "  Loaded parameters: 523,329\n",
      "  Match: True\n"
     ]
    }
   ],
   "source": [
    "# ============================================================================\n",
    "# SECTION 10: Save and Verify Model\n",
    "# ============================================================================\n",
    "\n",
    "# Save model explicitly\n",
    "model.save(f\"{MODEL_PATH}/{MODEL_NAME}\")\n",
    "print(f\"✓ Model saved to: {MODEL_PATH}/{MODEL_NAME}\\n\")\n",
    "\n",
    "# Verify model can be loaded\n",
    "print(\"Verifying saved model...\")\n",
    "loaded_model = load_model(f\"{MODEL_PATH}/{MODEL_NAME}\")\n",
    "print(\"✓ Model loaded successfully!\")\n",
    "print(f\"✓ Model verification complete!\\n\")\n",
    "\n",
    "# Compare architectures\n",
    "print(\"Model Verification:\")\n",
    "print(f\"  Original parameters: {model.count_params():,}\")\n",
    "print(f\"  Loaded parameters: {loaded_model.count_params():,}\")\n",
    "print(f\"  Match: {model.count_params() == loaded_model.count_params()}\")"
   ]
  },
  {
   "cell_type": "code",
   "execution_count": 32,
   "id": "64535873",
   "metadata": {},
   "outputs": [
    {
     "name": "stdout",
     "output_type": "stream",
     "text": [
      "\n",
      "✓ Training information saved to: ../models/training_info.json\n",
      "\n",
      "============================================================\n",
      "MODEL TRAINING COMPLETE!\n",
      "============================================================\n",
      "\n",
      "Next steps:\n",
      "  1. Increase EPOCHS for better performance\n",
      "  2. Load development set for validation\n",
      "  3. Test model on new audio samples\n",
      "  4. Deploy model for real-time detection\n",
      "============================================================\n"
     ]
    }
   ],
   "source": [
    "# ============================================================================\n",
    "# SECTION 11: Model Information Export\n",
    "# ============================================================================\n",
    "\n",
    "# Save training configuration and results\n",
    "training_info = {\n",
    "    'timestamp': datetime.now().isoformat(),\n",
    "    'model_name': MODEL_NAME,\n",
    "    'architecture': {\n",
    "        'input_shape': (Tx, N_FREQ),\n",
    "        'output_shape': (Ty, 1),\n",
    "        'total_parameters': int(model.count_params())\n",
    "    },\n",
    "    'training_config': {\n",
    "        'batch_size': BATCH_SIZE,\n",
    "        'epochs': EPOCHS,\n",
    "        'learning_rate': LEARNING_RATE,\n",
    "        'optimizer': 'Adam',\n",
    "        'loss': 'binary_crossentropy'\n",
    "    },\n",
    "    'training_results': {\n",
    "        'final_loss': float(final_loss),\n",
    "        'final_accuracy': float(final_accuracy),\n",
    "        'training_samples': int(X_train.shape[0])\n",
    "    }\n",
    "}\n",
    "\n",
    "# Save to JSON\n",
    "info_path = f\"{MODEL_PATH}/training_info.json\"\n",
    "with open(info_path, 'w') as f:\n",
    "    json.dump(training_info, f, indent=4)\n",
    "\n",
    "print(f\"\\n✓ Training information saved to: {info_path}\")\n",
    "\n",
    "print(\"\\n\" + \"=\"*60)\n",
    "print(\"MODEL TRAINING COMPLETE!\")\n",
    "print(\"=\"*60)\n",
    "print(\"\\nNext steps:\")\n",
    "print(\"  1. Increase EPOCHS for better performance\")\n",
    "print(\"  2. Load development set for validation\")\n",
    "print(\"  3. Test model on new audio samples\")\n",
    "print(\"  4. Deploy model for real-time detection\")\n",
    "print(\"=\"*60)"
   ]
  },
  {
   "cell_type": "code",
   "execution_count": null,
   "id": "9264849a",
   "metadata": {},
   "outputs": [],
   "source": []
  }
 ],
 "metadata": {
  "kernelspec": {
   "display_name": "wakeword-env",
   "language": "python",
   "name": "python3"
  },
  "language_info": {
   "codemirror_mode": {
    "name": "ipython",
    "version": 3
   },
   "file_extension": ".py",
   "mimetype": "text/x-python",
   "name": "python",
   "nbconvert_exporter": "python",
   "pygments_lexer": "ipython3",
   "version": "3.12.7"
  }
 },
 "nbformat": 4,
 "nbformat_minor": 5
}
